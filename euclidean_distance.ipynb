{
 "cells": [
  {
   "cell_type": "code",
   "execution_count": 1,
   "id": "6afb55a1",
   "metadata": {},
   "outputs": [
    {
     "name": "stdout",
     "output_type": "stream",
     "text": [
      "Enter the coordinates of the first point\n",
      "x coordinate: 1\n",
      "y coordinate: 4\n",
      "Enter the coordinates of the second point\n",
      "x coordinate: 2\n",
      "y coordinate: 4\n",
      "1.0\n"
     ]
    }
   ],
   "source": [
    "import numpy as np\n",
    "\n",
    "print(\"Enter the coordinates of the first point\")\n",
    "x1 = float(input(\"x coordinate: \"))\n",
    "y1 = float(input(\"y coordinate: \"))\n",
    "print(\"Enter the coordinates of the second point\")\n",
    "x2 = float(input(\"x coordinate: \"))\n",
    "y2 = float(input(\"y coordinate: \"))\n",
    "\n",
    "point1 = np.array([x1,y1])\n",
    "point2 = np.array([x2,y2])\n",
    "\n",
    "sum_squares = np.sum(np.square(point1-point2))\n",
    "\n",
    "\n",
    "euclidean_distance = np.sqrt(sum_squares)\n",
    "print(euclidean_distance)"
   ]
  }
 ],
 "metadata": {
  "kernelspec": {
   "display_name": "Python 3 (ipykernel)",
   "language": "python",
   "name": "python3"
  },
  "language_info": {
   "codemirror_mode": {
    "name": "ipython",
    "version": 3
   },
   "file_extension": ".py",
   "mimetype": "text/x-python",
   "name": "python",
   "nbconvert_exporter": "python",
   "pygments_lexer": "ipython3",
   "version": "3.11.7"
  }
 },
 "nbformat": 4,
 "nbformat_minor": 5
}
